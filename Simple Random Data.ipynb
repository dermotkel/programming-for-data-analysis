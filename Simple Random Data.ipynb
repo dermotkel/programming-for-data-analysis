{
 "cells": [
  {
   "cell_type": "markdown",
   "metadata": {},
   "source": [
    "# Assignment 2018 - Programming for Data Analysis"
   ]
  },
  {
   "cell_type": "markdown",
   "metadata": {},
   "source": [
    "In this assignment i will explore the numpy.random library in python. This is a useful and extensive library for generating random numbers and distributions, as well as randomly selecting items from an array. This assignment is divided into four sections:\n",
    "\n",
    "- I will explain the purpose of the **numpy.random** libary and its limitations.\n",
    "\n",
    "- The **simple random data** and **permutations** sections of the package will be examined in detail, including the inclusion of code to demonstrate their use.\n",
    "\n",
    "- I use the **Distributions** section of the libary to explore seven different distributions and explain their significance.\n",
    "\n",
    "- Finally, i will examine the **Random Generator** section, focusing on the differences between the numpy.random.see and numpy.random.RandomState functions. "
   ]
  },
  {
   "cell_type": "markdown",
   "metadata": {},
   "source": [
    "Before i begin, the below cell imports the various packages that i will be using in this assignment. This cell should always be run before continuing through the notebook to ensure that subsequent code runs correctly. \n",
    "\n",
    "As well, as numpy, matplotlib is used to create plots and python's random and time modules will be used in the notebook. random are secrets are other python random mudules to generate random numbers. \n",
    "%matplotlib inline is a **magic function** in Ipython/Jupyter Notebook, which ensures that matplotlib plots display correctly. "
   ]
  },
  {
   "cell_type": "code",
   "execution_count": 1,
   "metadata": {},
   "outputs": [],
   "source": [
    "import matplotlib.pyplot as plt\n",
    "import numpy as np\n",
    "import random\n",
    "import time\n",
    "import secrets\n",
    "%matplotlib inline"
   ]
  },
  {
   "cell_type": "markdown",
   "metadata": {},
   "source": [
    "# 1. numpy.random\n",
    "\n",
    "The numpy.random library randomly generates instances or arrays of floats or integers in a given size or shape. The permutations functions randomly select items from a list.  \n",
    "\n",
    "The library can also generate a multitude of distributions in a given size, from the uniform to zipf distribution. These will be explored in more detail later in the notebook. \n",
    "\n",
    "The random.seed and random.randomstate functions allow the user to seed all numpy.random functions. In simple terms, a seeded function will ensure that the particularly function gives the same result every time until the seed is changed. This is particularly useful for debugging code. \n",
    "\n",
    "I will now look at **intervals** and limitations of numpy.random. "
   ]
  },
  {
   "cell_type": "markdown",
   "metadata": {},
   "source": [
    "## Intervals\n",
    "\n",
    "Before, i go on, it is important to point out a key difference between functions is their interval type.  \n",
    "\n",
    "If you print the help file for the rand function, it states that it will print a random float or floats between 0 and 1, in the form \\[0,1\\)\n",
    "\n",
    "The \"\\[\" means that it includes 0, but the \"\\)\" denotes that it does not include 1. This is called a half-open or half-closed interval.\n",
    "\n",
    "Other intervals are as follows [1]:\n",
    "\n",
    "- \\(0,1\\] is a half open interval which excludes 0 and includes 1.\n",
    "\n",
    "- \\(0,1\\) is an open interval which excludes both 0 and 1.\n",
    "\n",
    "- \\[0,1\\] is a closed interval which includes 0 and 1. \n",
    "\n",
    "random.random_integers is a closed interval, while random.randint is half-open in the form  \\[0,1). It is important to be aware of this when choosing an appropriate function. \n",
    "\n",
    "[\\[1\\]](http://www-history.mcs.st-and.ac.uk/~john/analysis/Lectures/L22.html)\n"
   ]
  },
  {
   "cell_type": "code",
   "execution_count": null,
   "metadata": {},
   "outputs": [],
   "source": [
    "print(help(np.random.rand))"
   ]
  },
  {
   "cell_type": "markdown",
   "metadata": {},
   "source": [
    "## Pseudorandom Number Generator \n",
    "\n",
    "numpy.random is a Pseudorandom Number Generator (PRNG) using the Mersenne Twister (MT) algorithm to generate random numbers [1]. PRNG numbers are generated using mathematical formulas and are sufficently random for most purposes. However, PRNG numbers are pre-determined and not truly random. The MT homepage recommends against using it for cryptography, \"... since from sufficiently long subsequence of the outputs, one can predict the rest of the outputs.\" [2].\n",
    "\n",
    "True Random Number Generators use physical phenomena, such as radio static, to generate truly random numbers. Dr. Mads Haahr explains the difference between PRNG and TRNG as follows: \n",
    "\n",
    ">  PRNGs generate random numbers by using mathematical formulae or precalculated lists, using one corresponds to someone rolling a die many times and writing down the results. Whenever you ask for a die roll, you get the next on the list. Effectively, the numbers appear random, but they are really predetermined. TRNGs work by getting a computer to actually roll the die — or, more commonly, use some other physical phenomenon that is easier to connect to a computer than a die is [3].\n",
    "\n",
    "\n",
    "Random numbers generated with numpy.random are acceptable for data analysis and most uses, however would not be acceptable for critical use, like cryptography. \n",
    "\n",
    "A Cryptographically secure pseudorandom number generator (CSPRNG) is available in python using the **secrets** module [4]. The code in the next cell generates a random number between 0 and 100. As you can see it is a half-open interval.\n",
    "\n",
    "[\\[1\\]](https://www.packtpub.com/mapt/book/big_data_and_business_intelligence/9781785285110/2/ch02lvl1sec16/numpy-random-numbers)\n",
    "[\\[2\\]](http://www.math.sci.hiroshima-u.ac.jp/~m-mat/MT/efaq.html)\n",
    "[\\[3\\]](https://www.random.org/randomness/)\n",
    "[\\[4\\]](https://docs.python.org/3/library/secrets.html)\n"
   ]
  },
  {
   "cell_type": "code",
   "execution_count": null,
   "metadata": {},
   "outputs": [],
   "source": [
    "print(secrets.randbelow(101))"
   ]
  },
  {
   "cell_type": "markdown",
   "metadata": {},
   "source": [
    "## 2. Simple Random Data"
   ]
  },
  {
   "cell_type": "markdown",
   "metadata": {},
   "source": [
    "### rand and randn"
   ]
  },
  {
   "cell_type": "markdown",
   "metadata": {},
   "source": [
    "random.rand gives floats from a uniform distribution and random.randn gives floats from a uniform distribution. The below code prints two random numbers from each function."
   ]
  },
  {
   "cell_type": "code",
   "execution_count": null,
   "metadata": {},
   "outputs": [],
   "source": [
    "print(np.random.rand(2))\n",
    "print(np.random.randn(2))"
   ]
  },
  {
   "cell_type": "markdown",
   "metadata": {},
   "source": [
    "A histogram generated with both functions will explain the differences more clearly. \n",
    "\n",
    "random.rand gives a random float or floats from a uniform distribution between 0 and 1. The below histogram shows 1000 random numbers generated with this function. All numbers have an equal chance of being generated; all blue bins are of relative equal height. The mean of a uniform distribution between 0 and 1 will be approximately 0.5, as demonstrated below in the next cell."
   ]
  },
  {
   "cell_type": "code",
   "execution_count": null,
   "metadata": {},
   "outputs": [],
   "source": [
    "r = np.random.rand(1000)\n",
    "plt.hist(r)\n",
    "plt.ylabel('Number of')\n",
    "plt.xlabel('Variable')\n",
    "plt.title(\"Histogram of a Uniform Distribution\")\n",
    "plt.show()"
   ]
  },
  {
   "cell_type": "code",
   "execution_count": null,
   "metadata": {},
   "outputs": [],
   "source": [
    "np.mean(r)"
   ]
  },
  {
   "cell_type": "markdown",
   "metadata": {},
   "source": [
    "random.randn gives a random float or floats from a normal distribution with a mean of 0 and a variance of 1. The below histogram shows 1000 random numbers generated with this function. The mean and medium will be similar as demonstrated in the next cell. \n",
    "\n",
    "In a normal distributions most values are clustered around the mean, meaning that these values are more likely to be generated. Values further from the mean are less likely to be generated. "
   ]
  },
  {
   "cell_type": "code",
   "execution_count": null,
   "metadata": {
    "scrolled": true
   },
   "outputs": [],
   "source": [
    "rn = np.random.randn(1000)\n",
    "plt.hist(rn)\n",
    "plt.ylabel('Number of')\n",
    "plt.xlabel('Variable')\n",
    "plt.title(\"Histogram of a Normal Distribution\")\n",
    "plt.show()"
   ]
  },
  {
   "cell_type": "code",
   "execution_count": null,
   "metadata": {
    "scrolled": true
   },
   "outputs": [],
   "source": [
    "\n",
    "print(\"The mean is \", np.mean(rn))\n",
    "print(\"The median is \", np.median(rn))"
   ]
  },
  {
   "cell_type": "markdown",
   "metadata": {},
   "source": [
    "### random integer"
   ]
  },
  {
   "cell_type": "markdown",
   "metadata": {},
   "source": [
    "np.random.randint produces a random integer (real number) from a uniform distribution (all numbers are equally likely to be picked). The other function np.random.random_integers produces a similar result but is deprecated. \n",
    "\n",
    "The below game uses randint to pick a random real number between 1 and 100. "
   ]
  },
  {
   "cell_type": "code",
   "execution_count": null,
   "metadata": {},
   "outputs": [],
   "source": [
    "while True: # This code ensures that the user inputs Hard or Easy. Cite: https://stackoverflow.com/questions/29200952/how-to-only-allow-some-inputs-python\n",
    "    ans = input(\"Guess a number between 1 and 100. Type Hard or Easy in the box\")\n",
    "    ans = ans.title() # The user can enter uppercase or lowercase and it will still be accepted.\n",
    "    if ans not in ('Hard', \"Easy\"):\n",
    "        print(\"Type Easy or Hard.\")\n",
    "    else:\n",
    "        break # If they do choose correctly, the while loop breaks and goes to the next code.\n",
    "        \n",
    "        \n",
    "if ans == \"Hard\": # If they choose Hard, they get 5 trys; easy gives them 10.\n",
    "    ans = 5\n",
    "else:\n",
    "    ans = 10\n",
    "    \n",
    "\n",
    "\n",
    "num = np.random.randint(1,100) # The random number is generated\n",
    "\n",
    "for x in range(ans): # For loop gives them a certain amount of tries - based on their \"hard\" or \"easy\" input earlier.\n",
    "    guess = int(input(\"Guess a number between 1 and 100. You have \" + str(ans) + \" trys.\" ))\n",
    "    \n",
    "    if guess < num:\n",
    "        print(\"Too low\") # A warning is printed if they are too high or too low\n",
    "    \n",
    "    elif guess > num:\n",
    "        print(\"Too high\")\n",
    "        \n",
    "    else:\n",
    "        break\n",
    "        \n",
    "if guess == num:\n",
    "    \n",
    "    print(\"You guessed right!\")\n",
    "\n",
    "else:\n",
    "    print(\"Sorry, the number is \" + str(num))\n",
    "\n",
    "    \n",
    "  \n",
    "    \n",
    "\n",
    "    \n",
    "\n",
    "    \n",
    "    "
   ]
  },
  {
   "cell_type": "markdown",
   "metadata": {},
   "source": [
    "### random samples"
   ]
  },
  {
   "cell_type": "markdown",
   "metadata": {},
   "source": [
    "random.random_sample, random.random, random.ranf and random.sample all perform the same function. They generate floats from a continuous uniform distribution in a half-open interval from 0 inclusive to 1 exclusive [1]. \n",
    "\n",
    "A continuous distribution contains uncountable values, while a discrete distribution contains countable values. \n",
    "\n",
    "In the next two cells, we see a random float and then a histogram generated using random.random_sample demonstrating that it is, indeed, a continuous uniform distribution . \n",
    "\n",
    "[\\[1\\]](https://stackoverflow.com/questions/18829185/difference-between-various-numpy-random-functions)\n",
    "\n"
   ]
  },
  {
   "cell_type": "code",
   "execution_count": null,
   "metadata": {},
   "outputs": [],
   "source": [
    "print(np.random.random_sample())"
   ]
  },
  {
   "cell_type": "code",
   "execution_count": null,
   "metadata": {},
   "outputs": [],
   "source": [
    "rrs = np.random.rand(1000)\n",
    "plt.hist(rrs)\n",
    "plt.ylabel('Number of')\n",
    "plt.xlabel('Variable')\n",
    "plt.title(\"Histogram of a random.random_sample\")\n",
    "plt.show()"
   ]
  },
  {
   "cell_type": "markdown",
   "metadata": {},
   "source": [
    "### choices"
   ]
  },
  {
   "cell_type": "markdown",
   "metadata": {},
   "source": [
    "The choice and choices functions randomly select a given number of items from a given array. In other words, it can generate a random sample. This will be explained more clearly with the following example. "
   ]
  },
  {
   "cell_type": "markdown",
   "metadata": {},
   "source": [
    "#### The Central Limit Theorem\n",
    "\n",
    "The central limit theorem is a key theory in statistics and data analysis. In simple terms, it states that he mean of samples taken from a non-normal distribution will have a normal distribution if the samples are of a sufficently large size [1] \n",
    "\n",
    "As a result, statistical tests requiring a normal distribution can be performed on samples of a population, even if the population itself is not normally distributed. \n",
    "\n",
    "1. random.rand is used to generate 10000 numbers in a clearly uniform distribution.\n",
    "2. random.choices is used to take a random sample of 50 from the uniform distribution. The sample mean is calculated.\n",
    "3. The above operation is performed 1000 times. \n",
    "4. The results are then ploted demonstrating that they have a uniform distribution.\n",
    "\n",
    "[\\[1\\]](https://stattrek.com/statistics/dictionary.aspx?definition=central_limit_theorem)"
   ]
  },
  {
   "cell_type": "code",
   "execution_count": null,
   "metadata": {
    "scrolled": true
   },
   "outputs": [],
   "source": [
    "x = np.random.rand(10000) # random.rand generates a random distribution.\n",
    "plt.ylabel('Number of')\n",
    "plt.xlabel('Variable')\n",
    "plt.title(\"Histogram of a random.rand uniform distribution\")\n",
    "\n",
    "plt.hist(x)\n",
    "plt.show()"
   ]
  },
  {
   "cell_type": "code",
   "execution_count": null,
   "metadata": {},
   "outputs": [],
   "source": [
    "#cite: https://www.youtube.com/watch?v=Ecs_JPe9gCM&\n",
    "y = np.random.rand(10000) # Uniform distribution created again\n",
    "samples = [] # Empty list created \n",
    "for x in range(1000): # The below operation is performed 1000 times\n",
    "    samples.append(np.mean(random.choices(y,k=50))) # choices takes a sample of 50. The mean of the sample is calculated and is added to the empty list.\n",
    "\n",
    "plt.hist(samples)\n",
    "plt.ylabel('Number of')\n",
    "plt.xlabel('Variable')\n",
    "plt.title(\"Histogram of Central Limit Theorem\")\n",
    "plt.show()\n",
    "\n",
    "\n",
    "    \n",
    "\n",
    "\n"
   ]
  },
  {
   "cell_type": "markdown",
   "metadata": {},
   "source": [
    "random.bytes generates bytes of a given length. The results are given in ASCII."
   ]
  },
  {
   "cell_type": "code",
   "execution_count": null,
   "metadata": {},
   "outputs": [],
   "source": [
    "print(np.random.bytes(1))"
   ]
  },
  {
   "cell_type": "markdown",
   "metadata": {},
   "source": [
    "## 3. Permutations"
   ]
  },
  {
   "cell_type": "markdown",
   "metadata": {},
   "source": [
    "The functions in permutations randomly shuffle a given array. The below game demonstrates how it works. \n",
    "1. A random animal is chosen from a list using random.choices. \n",
    "2. The animal name is converted into a list of its component letters.\n",
    "3. random.permutation is used to randomly scramble the letters.\n",
    "4. The scrambled letters are presented to the user who guess the animal name. "
   ]
  },
  {
   "cell_type": "code",
   "execution_count": null,
   "metadata": {},
   "outputs": [],
   "source": [
    "def unScramble(): # function to return the scrambled animal name is created\n",
    "    animals = [\"cat\",\"dog\",\"fish\", \"sheep\", \"chicken\", \"elephant\", \"giraffe\", \"goat\", \"lion\", \"tiger\", \"rabbit\" ] # list of animals\n",
    "    global x # variable x is made global: it can now be referred to by code out side of the function\n",
    "    x = np.random.choice(animals) # random animal is chosen from list\n",
    "\n",
    "    jumble = []\n",
    "    for i in x: # for loop is used to create a list of the letters\n",
    "        jumble.append(i)\n",
    "\n",
    "\n",
    "    y = print(np.random.permutation(jumble)) # the letters are shuffled using permutation\n",
    "    return(y)\n",
    "\n",
    "\n",
    "    \n",
    "\n",
    "\n",
    "\n",
    "\n",
    "\n",
    "\n"
   ]
  },
  {
   "cell_type": "code",
   "execution_count": null,
   "metadata": {},
   "outputs": [],
   "source": [
    "while True: # user must choose an easy or hard game \n",
    "    ans = input(\"Unscramble. Type Hard or Easy in the box\")\n",
    "    ans = ans.title()\n",
    "    if ans not in ('Hard', \"Easy\"):\n",
    "        print(\"Type Easy or Hard.\")\n",
    "    else:\n",
    "        break \n",
    "               \n",
    "if ans == \"Hard\": \n",
    "    ans = 5\n",
    "else:\n",
    "    ans = 10\n",
    "\n",
    "unScramble() # above function is called. \n",
    "\n",
    "countdown_start = time.time() # countdown timer is started based o user input. Cite: https://stackoverflow.com/questions/13293269/how-would-i-stop-a-while-loop-after-n-amount-of-time\n",
    "while time.time() < countdown_start + int(ans):\n",
    "    \n",
    "    answer = input(\"You have \" + str(ans) + \" seconds. Unscramble and enter the animal here \")\n",
    "    answer = answer.lower()\n",
    "    \n",
    "    \n",
    "    if answer == x and time.time() <= countdown_start + int(ans):\n",
    "        print(\"you guessed right!\") \n",
    "        break\n",
    "        \n",
    "    elif answer != x and time.time() <= countdown_start + int(ans):\n",
    "        print(\"Try again\")\n",
    "    \n",
    "    elif answer != x and time.time() > countdown_start + int(ans):\n",
    "        print(\"Out of time! The animal is a \" + x)\n",
    "    \n",
    "    elif answer == x and time.time() > countdown_start + int(ans):\n",
    "        print(\"Too late!\")\n",
    "              \n",
    "\n",
    "\n",
    "\n",
    "\n",
    "\n",
    "\n",
    "\n",
    "        "
   ]
  },
  {
   "cell_type": "markdown",
   "metadata": {},
   "source": [
    "## 3. Distributions\n",
    "\n",
    "In this section, we will examine seven distributions in numpy.random. I will use numpy to generate an example and explain its purpose. The distributions are as follows: \n",
    "\n",
    "1. Uniform Distribution\n",
    "2. Normal Distribution\n",
    "3. Bernouli Distribution\n",
    "4. Binomial Distribution\n",
    "5. Geometric Distribution\n",
    "6. Negative Binomial Distribution\n",
    "7. Hypergeometric Distribution"
   ]
  },
  {
   "cell_type": "markdown",
   "metadata": {},
   "source": [
    "#### Uniform Distribution\n",
    "\n",
    "In a uniform distribution, all values have an equal chance of appearing. In the Irish Lotto, a participant chooses 6 numbers between 1 and 47 [1]. What number is likely to be the winning number? In the Lotto, every number between 1 and 47 has an equal chance of being picked. \n",
    "\n",
    "The function random.uniform creates a continuous distribution. The lotto is discrete (whole numbers), so i will use random.randint.\n",
    "\n",
    "The below cell picks a number between 1 and 47 (it is a half-open interval) 10000 times. An histogram is created showing the results. This is equivalent to picking the last winning number in the Lotto 10000 times.  \n",
    "\n",
    "You can see that every number appears to win a similar amount of times. The mean is printed below the plot and is not any more likely to win than any other number. \n",
    "\n",
    "[\\[1\\]](https://www.lottoland.ie/irishlotto/help)"
   ]
  },
  {
   "cell_type": "code",
   "execution_count": null,
   "metadata": {},
   "outputs": [],
   "source": [
    "lotto = np.random.randint(1,48,10000)\n",
    "\n",
    "plt.hist(lotto)\n",
    "plt.ylabel('Number of times')\n",
    "plt.xlabel('Winning Number')\n",
    "plt.title(\"Histogram of Lotto winning numbers\")\n",
    "plt.show()\n",
    "print(np.mean(lotto))"
   ]
  },
  {
   "cell_type": "markdown",
   "metadata": {},
   "source": [
    "#### Normal Distribution"
   ]
  },
  {
   "cell_type": "markdown",
   "metadata": {},
   "source": [
    "The normal distribution is a common distribution in the real world; height, weight and IQ scores tend to be normally distributed [1].\n",
    "\n",
    "A normal distribution is also called a bell curve. Values are clustered around the mean and reduce the farther you get from it. It is symmetrical in shape. \n",
    "\n",
    "The below example regarding Irish male height should elucidate the normal distribution. It is purely for demonstration purposes. \n",
    "\n",
    "The average Irish male born in 1980 is 176cm (5ft 9ins) tall [2].The standard deviation of male height (in the USA) is approximately 7.4 cm (2.9ins) [3].\n",
    "\n",
    "We can now create a normal distribution of male height in Ireland after measuring 10000 men. The plot would look as below. \n",
    "\n",
    "Due to the shape of the normal distribution, we may be able to make the following predictions [4]:\n",
    "\n",
    "- Approximately 68% of Irish men would be within 1 standard deviation 7.4 cm (2.9ins) of the mean height 176cm (5ft 9ins). \n",
    "\n",
    "- Fewer than 5% of Irish men born in 1980 would be (two standard deviations) shorter than 161.2 cm (5ft 4ins) or taller than 190.8 cm (6ft 3ins). \n",
    "\n",
    "[\\[1\\]](http://www.usablestats.com/lessons/normal)\n",
    "[\\[2\\]](https://www.irishtimes.com/news/ireland/irish-news/average-height-of-irish-men-is-8cm-more-than-100-years-ago-1.1513940)\n",
    "[\\[3\\]](http://www.stat.columbia.edu/~martin/W1111/Review2.pdf)\n",
    "[\\[4\\]](https://www.statisticshowto.datasciencecentral.com/68-95-99-7-rule/)"
   ]
  },
  {
   "cell_type": "code",
   "execution_count": null,
   "metadata": {},
   "outputs": [],
   "source": [
    " h = np.random.normal(176, 7.4, 10000) # the mean height is 176 cm, the standard deviation is 7.4 cm and 10000 values are generated\n",
    "\n",
    "\n",
    "plt.hist(h)\n",
    "plt.ylabel('Number of men')\n",
    "plt.xlabel('Height')\n",
    "plt.title(\"Histogram of Irish Male Height\")\n",
    "plt.show()"
   ]
  },
  {
   "cell_type": "markdown",
   "metadata": {},
   "source": [
    "#### Bernoulli Distribution "
   ]
  },
  {
   "cell_type": "markdown",
   "metadata": {},
   "source": [
    "A bernoulli distribution has the following characteristics:\n",
    "\n",
    "1. There are only two possible outcomes\n",
    "2. There is a given probability for each outcome occuring\n",
    "\n",
    "A good example is the flipping of a coin: There are two possible outcomes - heads or tails and a 50% of getting each outcome.\n",
    "\n",
    "The below code shows the outcome of flipping a coin once and performing this experiment 1000 times. You can see that there is an approximately .5 chance of getting tails. \n",
    "\n",
    "The histogram shows that heads and tails (0 and 1) occur a similar amount of times.\n",
    "\n",
    "The next 4 distributions are all based on the bernoulli distribution."
   ]
  },
  {
   "cell_type": "code",
   "execution_count": null,
   "metadata": {},
   "outputs": [],
   "source": [
    "coin = np.random.binomial(1, 0.5, 1000) \n",
    "print(\"There is a\", sum(coin == 1)/1000, \"chance of getting tails.\") # Cite: https://docs.scipy.org/doc/numpy-1.15.1/reference/generated/numpy.random.binomial.html#numpy.random.binomial"
   ]
  },
  {
   "cell_type": "code",
   "execution_count": null,
   "metadata": {},
   "outputs": [],
   "source": [
    "plt.hist(coin)\n",
    "plt.ylabel('Number of times')\n",
    "plt.xlabel('Heads or Tails')\n",
    "plt.title(\"Histogram of Coin Flips\")\n",
    "plt.show()\n"
   ]
  },
  {
   "cell_type": "markdown",
   "metadata": {},
   "source": [
    "#### Binomial Distribution"
   ]
  },
  {
   "cell_type": "markdown",
   "metadata": {},
   "source": [
    "A binomial distribution is a bernouli distribution with more than one independent trial [1]. We can add the following characteristic below:\n",
    "\n",
    "1. There are only two possible outcomes\n",
    "2. There is a given probability for each outcome occuring\n",
    "3. There are a given number of independent trials. \n",
    " \n",
    " [\\[1\\]](https://www.statisticshowto.datasciencecentral.com/bernoulli-distribution/)"
   ]
  },
  {
   "cell_type": "markdown",
   "metadata": {},
   "source": [
    "You have a 1/6 chance of getting a 6 when you role a dice.  There are two outcomes: you get a 6 (succes) or you do not get a 6 (failure). You role a dice 3 times, what are your chances of getting a 6?\n",
    "You perform this experiment 1000 times. As you can see below it is in the region of 34%.\n",
    "\n",
    "The plot shows that when you perform the experiment 1000 times, you don't get 6 around 600 times. You get a 6 once about 300 times; twice around 50 and you roll 6 on all of your 3 rolls only a handful of times. "
   ]
  },
  {
   "cell_type": "code",
   "execution_count": 8,
   "metadata": {},
   "outputs": [
    {
     "data": {
      "text/plain": [
       "0.358"
      ]
     },
     "execution_count": 8,
     "metadata": {},
     "output_type": "execute_result"
    }
   ],
   "source": [
    "dice = np.random.binomial(3, 0.167, 1000) # if n=1 this would be a bernouli distribution.\n",
    "sum(dice == 1)/1000."
   ]
  },
  {
   "cell_type": "code",
   "execution_count": 7,
   "metadata": {},
   "outputs": [
    {
     "data": {
      "image/png": "[encoded data removed]",
      "text/plain": [
       "<Figure size 432x288 with 1 Axes>"
      ]
     },
     "metadata": {},
     "output_type": "display_data"
    }
   ],
   "source": [
    "plt.hist(dice)\n",
    "plt.ylabel('Number of times')\n",
    "plt.xlabel('Number of 6s in Three Rolls')\n",
    "plt.title(\"Histogram of Dice Rolls for 6\")\n",
    "plt.show()"
   ]
  },
  {
   "cell_type": "markdown",
   "metadata": {},
   "source": [
    "#### Geometric Distribution"
   ]
  },
  {
   "cell_type": "markdown",
   "metadata": {},
   "source": [
    "The geometric distribution shows the number of independent bernouli trials needed until the first success [1]. In other words, it can tell you the probability of achieving the first success on a given try. \n",
    "\n",
    "As we saw earlier, there is a 1/6 chance of getting a 6 when you roll a dice. You start rolling a dice and note the outcome. The cell below asks you to input a roll. It then computes the probability of you getting your first 6 on that roll. The experiment is repeated 1000 times.  \n",
    "\n",
    "The histogram shows the dice rolls where you first get a 6. As you can see, you are ore likely to get it on your fist roll and the chance of getting it on subsequen rolls consistently reduces. If you do the experiment 1000 times, it appears that in a couples of cases, you might not get a 6 until you roll the dice over 30 times. \n",
    "\n",
    " [\\[1\\]](https://stattrek.com/statistics/dictionary.aspx?definition=geometric_distribution)"
   ]
  },
  {
   "cell_type": "code",
   "execution_count": 6,
   "metadata": {},
   "outputs": [
    {
     "name": "stdout",
     "output_type": "stream",
     "text": [
      "What role of a dice will give you your first 6?5\n",
      "Your probability of getting your first 6 on role number 5 is 0.067\n",
      "You require an average of  5.842  rolls to get a 6\n"
     ]
    },
    {
     "data": {
      "image/png": "[encoded data removed]",
      "text/plain": [
       "<Figure size 432x288 with 1 Axes>"
      ]
     },
     "metadata": {},
     "output_type": "display_data"
    }
   ],
   "source": [
    "geo = np.random.geometric(p=0.167, size = 1000) # The experiment is carried out 1000 times. Cite: https://docs.scipy.org/doc/numpy-1.15.0/reference/generated/numpy.random.geometric.html\n",
    "\n",
    "turn = input(\"What role of a dice will give you your first 6?\")\n",
    "\n",
    "p = (geo == int(turn)).sum() / 1000\n",
    "\n",
    "print(\"Your probability of getting your first 6 on role number \" + str(turn) + \" is \" + str(p))\n",
    "\n",
    "print(\"You require an average of \", np.mean(geo), \" rolls to get a 6\")\n",
    "plt.hist(geo)\n",
    "plt.ylabel('Number of')\n",
    "plt.xlabel('Dice rolls when you first get 6')\n",
    "plt.title(\"Histogram of Geometric distribution\")\n",
    "plt.show()"
   ]
  },
  {
   "cell_type": "markdown",
   "metadata": {},
   "source": [
    "#### Negative Binomial Distribution"
   ]
  },
  {
   "cell_type": "markdown",
   "metadata": {},
   "source": [
    "Where the geometric distribution shows the number of independent bernouli trials needed until the **first success**, the negative binomial distribution demonstrates the number of trials required to get the **n<sup>th</sup>** success [1]. \n",
    "\n",
    "The below cell calculates the probability of getting your third 6 on a given roll. The histogram is similar to the geometric distribution, though slightly less right skewed. You can see that the average number of rolls to get a third 6 is around 3 times higher than getting one, as in the geometric distribution.\n",
    "\n",
    "[\\[1\\]](https://stattrek.com/probability-distributions/negative-binomial.aspx)"
   ]
  },
  {
   "cell_type": "code",
   "execution_count": 5,
   "metadata": {},
   "outputs": [
    {
     "name": "stdout",
     "output_type": "stream",
     "text": [
      "What role of a dice will give you your third 6?4\n",
      "Your probability of getting your third 6 on role number 4 is 0.034\n",
      "You require an average of  14.851  rolls to get your third 6\n"
     ]
    },
    {
     "data": {
      "image/png": "[encoded data removed]",
      "text/plain": [
       "<Figure size 432x288 with 1 Axes>"
      ]
     },
     "metadata": {},
     "output_type": "display_data"
    }
   ],
   "source": [
    "neg = np.random.negative_binomial(3, 0.167, 1000)\n",
    "\n",
    "turn = input(\"What role of a dice will give you your third 6?\")\n",
    "\n",
    "p = (neg == int(turn)).sum() / 1000\n",
    "\n",
    "print(\"Your probability of getting your third 6 on role number \" + str(turn) + \" is \" + str(p))\n",
    "print(\"You require an average of \", np.mean(neg), \" rolls to get your third 6\")\n",
    "\n",
    "plt.hist(neg)\n",
    "plt.ylabel('Number of')\n",
    "plt.xlabel('Dice rolls when you get third 6')\n",
    "plt.title(\"Histogram of Negative Binomial Bistribution\")\n",
    "plt.show()\n"
   ]
  },
  {
   "cell_type": "markdown",
   "metadata": {},
   "source": [
    "#### Hypergeometric Distribution"
   ]
  },
  {
   "cell_type": "markdown",
   "metadata": {},
   "source": [
    "Finally, i will look at the hypergeometric distribution. \n",
    "\n",
    "It is very similar to the binomial distribution. There are two possible outcomes and there is a given probability of each outcome occuring. However, the trials are undertaken **without replacement**\n",
    "\n",
    "This example derived from *statrek* will explain the distribution [1].\n",
    "\n",
    "You have an urn with 30 marbles. 20 of the marbles are green and 10 are red. If you pick 5 marbles from the urn, what is the probability of them all being green. Enerytime you take a green (or a red marble), you are not putting it back in the urn. If you take a red marble on your first turn, you now have a 9/29 chance of picking another red, the probability has reduced. \n",
    "\n",
    "The plot demonstrates that you are very unlikely to pick no greens, there are more greens than reds in the urn. Out of 1000 trials, you pick 5 greens about 50 times. You pick 3 greens and two reds about 35% of the time. \n",
    "\n",
    " [\\[1\\]](https://stattrek.com/probability-distributions/hypergeometric.aspx)"
   ]
  },
  {
   "cell_type": "code",
   "execution_count": 21,
   "metadata": {},
   "outputs": [
    {
     "data": {
      "image/png": "[encoded data removed]",
      "text/plain": [
       "<Figure size 432x288 with 1 Axes>"
      ]
     },
     "metadata": {},
     "output_type": "display_data"
    },
    {
     "name": "stdout",
     "output_type": "stream",
     "text": [
      "The average number of greens in your pick will be  2.976\n"
     ]
    }
   ],
   "source": [
    "green, red, pick = 30, 20, 5\n",
    "\n",
    "hg = np.random.hypergeometric(green, red, pick, 1000)\n",
    "\n",
    "plt.hist(hg)\n",
    "plt.ylabel('Number of')\n",
    "plt.xlabel('probability of picking 5 greens')\n",
    "plt.title(\"Histogram of Hypergeometric Distribution\")\n",
    "plt.show()\n",
    "print(\"The average number of greens in your pick will be \", np.mean(hg))"
   ]
  },
  {
   "cell_type": "markdown",
   "metadata": {},
   "source": [
    "## 4. Random Generator"
   ]
  },
  {
   "cell_type": "code",
   "execution_count": null,
   "metadata": {},
   "outputs": [],
   "source": [
    "rs = np.random.RandomState(5)\n",
    "numList = rs.randint(100, size=5)\n",
    "numList = sorted(numList)\n",
    "seq = list(np.random.permutation(numList))\n",
    "\n",
    "\n",
    "print(seq)\n",
    "\n",
    "guess = input(\"order the numbers\")\n",
    "numbers = list(map(int, guess.split())) # https://stackoverflow.com/questions/4663306/get-a-list-of-numbers-as-input-from-the-user\n",
    "\n",
    "\n",
    "\n",
    "if numbers == numList:\n",
    "    print(\"Good Job\")\n",
    "    \n",
    "        \n",
    "elif numbers != numList:\n",
    "    print(\"Sorry, wrong answer!\")\n",
    "    "
   ]
  },
  {
   "cell_type": "markdown",
   "metadata": {},
   "source": [
    "Random seed changes the global seed for numpy.random"
   ]
  },
  {
   "cell_type": "code",
   "execution_count": null,
   "metadata": {},
   "outputs": [],
   "source": [
    "np.random.seed(1)\n",
    "print(np.random.rand(5))\n",
    "print(np.random.randint(10, size=5))"
   ]
  },
  {
   "cell_type": "code",
   "execution_count": null,
   "metadata": {},
   "outputs": [],
   "source": [
    "np.random.seed(1)\n",
    "print(np.random.rand(5))\n",
    "print(np.random.randint(10, size=5))"
   ]
  },
  {
   "cell_type": "code",
   "execution_count": null,
   "metadata": {},
   "outputs": [],
   "source": []
  }
 ],
 "metadata": {
  "kernelspec": {
   "display_name": "Python 3",
   "language": "python",
   "name": "python3"
  },
  "language_info": {
   "codemirror_mode": {
    "name": "ipython",
    "version": 3
   },
   "file_extension": ".py",
   "mimetype": "text/x-python",
   "name": "python",
   "nbconvert_exporter": "python",
   "pygments_lexer": "ipython3",
   "version": "3.6.5"
  }
 },
 "nbformat": 4,
 "nbformat_minor": 2
}
