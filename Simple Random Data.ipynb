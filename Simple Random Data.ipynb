{
 "cells": [
  {
   "cell_type": "code",
   "execution_count": 2,
   "metadata": {},
   "outputs": [],
   "source": [
    "import matplotlib.pyplot as plt\n",
    "import numpy as np\n",
    "import random\n",
    "\n",
    "%matplotlib inline"
   ]
  },
  {
   "cell_type": "markdown",
   "metadata": {},
   "source": [
    "use random to make a simple guessing game \n",
    "\n",
    "https://stackoverflow.com/questions/18829185/difference-between-various-numpy-random-functions\n",
    "https://stackoverflow.com/questions/47240308/differences-between-numpy-random-rand-vs-numpy-random-randn-in-python"
   ]
  },
  {
   "cell_type": "markdown",
   "metadata": {},
   "source": [
    "## Gives a uniform distribution"
   ]
  },
  {
   "cell_type": "markdown",
   "metadata": {},
   "source": [
    "np.rand gives a random number/s from a uniform distribution"
   ]
  },
  {
   "cell_type": "code",
   "execution_count": 3,
   "metadata": {},
   "outputs": [
    {
     "data": {
      "image/png": "[encoded data removed]",
      "text/plain": [
       "<Figure size 432x288 with 1 Axes>"
      ]
     },
     "metadata": {},
     "output_type": "display_data"
    }
   ],
   "source": [
    "s = np.random.rand(1000)\n",
    "plt.hist(s)\n",
    "plt.show()"
   ]
  },
  {
   "cell_type": "markdown",
   "metadata": {},
   "source": [
    "np.random.randn plts a random distribution"
   ]
  },
  {
   "cell_type": "code",
   "execution_count": 4,
   "metadata": {},
   "outputs": [
    {
     "data": {
      "image/png": "[encoded data removed]",
      "text/plain": [
       "<Figure size 432x288 with 1 Axes>"
      ]
     },
     "metadata": {},
     "output_type": "display_data"
    }
   ],
   "source": [
    "d = np.random.randn(1000)\n",
    "plt.hist(d)\n",
    "plt.show()"
   ]
  },
  {
   "cell_type": "markdown",
   "metadata": {},
   "source": [
    "randint and random integers are similar, main differences; https://en.wikipedia.org/wiki/Interval_(mathematics)"
   ]
  },
  {
   "cell_type": "markdown",
   "metadata": {},
   "source": [
    "The next ones are all the same https://stackoverflow.com/questions/18829185/difference-between-various-numpy-random-functions"
   ]
  },
  {
   "cell_type": "markdown",
   "metadata": {},
   "source": [
    "Choices"
   ]
  },
  {
   "cell_type": "code",
   "execution_count": 5,
   "metadata": {},
   "outputs": [
    {
     "data": {
      "image/png": "[encoded data removed]",
      "text/plain": [
       "<Figure size 432x288 with 1 Axes>"
      ]
     },
     "metadata": {},
     "output_type": "display_data"
    }
   ],
   "source": [
    "x = np.random.rand(10000)\n",
    "\n",
    "plt.hist(x)\n",
    "plt.show()"
   ]
  },
  {
   "cell_type": "code",
   "execution_count": 8,
   "metadata": {},
   "outputs": [
    {
     "name": "stdout",
     "output_type": "stream",
     "text": [
      "Guess a number between 1 and 100. Type Hard or Easy in the boxHard\n",
      "Guess a number between 1 and 100. You have 5 trys.3\n",
      "Too low\n",
      "Guess a number between 1 and 100. You have 5 trys.4\n",
      "Too low\n",
      "Guess a number between 1 and 100. You have 5 trys.1\n",
      "Too low\n",
      "Guess a number between 1 and 100. You have 5 trys.5\n",
      "Too low\n",
      "Guess a number between 1 and 100. You have 5 trys.6\n",
      "Too low\n",
      "The number is 36\n"
     ]
    }
   ],
   "source": [
    "while True:\n",
    "    ans = input(\"Guess a number between 1 and 100. Type Hard or Easy in the box\")\n",
    "    if ans not in ('Hard', \"Easy\"):\n",
    "        print(\"Type Easy or Hard.\")\n",
    "    else:\n",
    "        break\n",
    "        \n",
    "        \n",
    "if ans == \"Hard\":\n",
    "    ans = 5\n",
    "else:\n",
    "    ans = 10\n",
    "    \n",
    "\n",
    "\n",
    "num = np.random.randint(1,100)\n",
    "\n",
    "for x in range(ans):\n",
    "    guess = int(input(\"Guess a number between 1 and 100. You have \" + str(ans) + \" trys.\" ))\n",
    "    \n",
    "    if guess < num:\n",
    "        print(\"Too low\")\n",
    "    \n",
    "    elif guess > num:\n",
    "        print(\"Too high\")\n",
    "        \n",
    "    else:\n",
    "        break\n",
    "        \n",
    "if guess == num:\n",
    "    \n",
    "    print(\"You guessed right!\")\n",
    "\n",
    "else:\n",
    "    print(\"Sorry, the number is \" + str(num))\n",
    "\n",
    "    \n",
    "  \n",
    "    \n",
    "\n",
    "    \n",
    "\n",
    "    \n",
    "    "
   ]
  },
  {
   "cell_type": "code",
   "execution_count": 17,
   "metadata": {},
   "outputs": [
    {
     "name": "stdout",
     "output_type": "stream",
     "text": [
      "64\n"
     ]
    }
   ],
   "source": [
    "num = np.random.randint(1,100)\n",
    "print(num)"
   ]
  },
  {
   "cell_type": "code",
   "execution_count": null,
   "metadata": {},
   "outputs": [],
   "source": [
    "y = np.random.rand(10000)\n",
    "samples = []\n",
    "for x in range(1000):\n",
    "    samples.append(np.mean(random.choices(y, k=50)))\n",
    "\n",
    "    \n",
    "    \n",
    "plt.hist(samples)\n",
    "plt.show()\n",
    "\n",
    "\n",
    "    \n",
    "\n",
    "\n"
   ]
  },
  {
   "cell_type": "code",
   "execution_count": null,
   "metadata": {},
   "outputs": [],
   "source": []
  },
  {
   "cell_type": "code",
   "execution_count": null,
   "metadata": {},
   "outputs": [],
   "source": [
    "## Gives a random distribution"
   ]
  },
  {
   "cell_type": "markdown",
   "metadata": {},
   "source": [
    "y = np.random.randn(10000)\n",
    "\n",
    "plt.hist(y)\n",
    "plt.show()"
   ]
  },
  {
   "cell_type": "code",
   "execution_count": null,
   "metadata": {},
   "outputs": [],
   "source": [
    "print(np.random.bytes(2))"
   ]
  },
  {
   "cell_type": "code",
   "execution_count": null,
   "metadata": {},
   "outputs": [],
   "source": []
  },
  {
   "cell_type": "code",
   "execution_count": null,
   "metadata": {},
   "outputs": [],
   "source": [
    "def unScramble():\n",
    "    animals = [\"cat\",\"dog\",\"fish\",\"sheep\"]\n",
    "    global x\n",
    "    x = np.random.choice(animals)\n",
    "\n",
    "    jumble = []\n",
    "    for i in x:\n",
    "        jumble.append(i)\n",
    "\n",
    "\n",
    "    y = print(np.random.permutation(jumble))\n",
    "    return(y)\n",
    "\n",
    "\n",
    "    \n",
    "\n",
    "\n",
    "\n",
    "\n",
    "\n",
    "\n"
   ]
  },
  {
   "cell_type": "code",
   "execution_count": null,
   "metadata": {},
   "outputs": [],
   "source": [
    "unScramble()\n",
    "\n",
    "for i in range(5):\n",
    "    answer = input(\"Unscramble and enter the animal here \")\n",
    "    if answer == x:\n",
    "        print(\"you guessed right!\")\n",
    "        break\n",
    "    else:\n",
    "        print(\"Try again\")\n",
    "              \n",
    "print(\"The animal is a \" + x)\n",
    "\n",
    "\n",
    "\n",
    "        "
   ]
  },
  {
   "cell_type": "code",
   "execution_count": null,
   "metadata": {},
   "outputs": [],
   "source": []
  }
 ],
 "metadata": {
  "kernelspec": {
   "display_name": "Python 3",
   "language": "python",
   "name": "python3"
  },
  "language_info": {
   "codemirror_mode": {
    "name": "ipython",
    "version": 3
   },
   "file_extension": ".py",
   "mimetype": "text/x-python",
   "name": "python",
   "nbconvert_exporter": "python",
   "pygments_lexer": "ipython3",
   "version": "3.6.5"
  }
 },
 "nbformat": 4,
 "nbformat_minor": 2
}
