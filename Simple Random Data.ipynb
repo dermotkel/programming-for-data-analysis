{
 "cells": [
  {
   "cell_type": "code",
   "execution_count": 1,
   "metadata": {},
   "outputs": [],
   "source": [
    "import matplotlib.pyplot as plt\n",
    "import numpy as np\n",
    "import random\n",
    "from scipy import stats\n",
    "import time\n",
    "\n",
    "%matplotlib inline"
   ]
  },
  {
   "cell_type": "markdown",
   "metadata": {},
   "source": [
    "use random to make a simple guessing game \n",
    "\n",
    "https://stackoverflow.com/questions/18829185/difference-between-various-numpy-random-functions\n",
    "https://stackoverflow.com/questions/47240308/differences-between-numpy-random-rand-vs-numpy-random-randn-in-python"
   ]
  },
  {
   "cell_type": "markdown",
   "metadata": {},
   "source": [
    "## Gives a uniform distribution"
   ]
  },
  {
   "cell_type": "markdown",
   "metadata": {},
   "source": [
    "np.random.rand gives a random float or floats from a uniform distribution between 0 and 1. The below histogram shows 1000 random numbers generated with this function. All numbers have an equal chance of being generated; all blue bins are of relative equal height. The mean of a uniform distribution between 0 and 1 will be approximately 0.5, as demonstrated below in the next cell."
   ]
  },
  {
   "cell_type": "code",
   "execution_count": 15,
   "metadata": {},
   "outputs": [
    {
     "data": {
      "image/png": "[encoded data removed]",
      "text/plain": [
       "<Figure size 432x288 with 1 Axes>"
      ]
     },
     "metadata": {},
     "output_type": "display_data"
    }
   ],
   "source": [
    "r = np.random.rand(1000)\n",
    "plt.hist(r)\n",
    "plt.ylabel('Number of')\n",
    "plt.xlabel('Variable')\n",
    "plt.title(\"Histogram of a Uniform Distribution\")\n",
    "plt.show()"
   ]
  },
  {
   "cell_type": "code",
   "execution_count": 16,
   "metadata": {},
   "outputs": [
    {
     "data": {
      "text/plain": [
       "0.4962340636311677"
      ]
     },
     "execution_count": 16,
     "metadata": {},
     "output_type": "execute_result"
    }
   ],
   "source": [
    "np.mean(r)"
   ]
  },
  {
   "cell_type": "markdown",
   "metadata": {},
   "source": [
    "np.random.randn gives a random float or floats from a normal distribution with a mean of 0 and a variance of 1. The below histogram shows 1000 random numbers generated with this function. The mean and medium will be similar as demonstrated in the next cell. "
   ]
  },
  {
   "cell_type": "code",
   "execution_count": 24,
   "metadata": {
    "scrolled": true
   },
   "outputs": [
    {
     "data": {
      "image/png": "[encoded data removed]",
      "text/plain": [
       "<Figure size 432x288 with 1 Axes>"
      ]
     },
     "metadata": {},
     "output_type": "display_data"
    }
   ],
   "source": [
    "rn = np.random.randn(1000)\n",
    "plt.hist(rn)\n",
    "plt.ylabel('Number of')\n",
    "plt.xlabel('Variable')\n",
    "plt.title(\"Histogram of a Normal Distribution\")\n",
    "plt.show()"
   ]
  },
  {
   "cell_type": "code",
   "execution_count": 33,
   "metadata": {
    "scrolled": true
   },
   "outputs": [
    {
     "name": "stdout",
     "output_type": "stream",
     "text": [
      "The mean is  0.00645547265626303\n",
      "The median is  -0.013338791654695356\n"
     ]
    }
   ],
   "source": [
    "\n",
    "print(\"The mean is \", np.mean(rn))\n",
    "print(\"The median is \", np.median(rn))"
   ]
  },
  {
   "cell_type": "markdown",
   "metadata": {},
   "source": [
    "## Random Integer"
   ]
  },
  {
   "cell_type": "markdown",
   "metadata": {},
   "source": [
    "np.random.randint produces a random integer (real number) from a uniform distribution (all numbers are equally likely to be picked). The other function np.random.random_integers produces a similar result but is deprecated. \n",
    "\n",
    "The below game uses randint to pick a number between 1 and 100. "
   ]
  },
  {
   "cell_type": "code",
   "execution_count": null,
   "metadata": {},
   "outputs": [],
   "source": [
    "while True: # This code ensures that the user inputs Hard or Easy. Cite: https://stackoverflow.com/questions/29200952/how-to-only-allow-some-inputs-python\n",
    "    ans = input(\"Guess a number between 1 and 100. Type Hard or Easy in the box\")\n",
    "    if ans not in ('Hard', \"Easy\"):\n",
    "        print(\"Type Easy or Hard.\")\n",
    "    else:\n",
    "        break # If they do choose correctly, the while loop breaks and goes to the next code.\n",
    "        \n",
    "        \n",
    "if ans == \"Hard\": # If they choose Hard, they get 5 trys; easy gives them 10.\n",
    "    ans = 5\n",
    "else:\n",
    "    ans = 10\n",
    "    \n",
    "\n",
    "\n",
    "num = np.random.randint(1,100)\n",
    "\n",
    "for x in range(ans):\n",
    "    guess = int(input(\"Guess a number between 1 and 100. You have \" + str(ans) + \" trys.\" ))\n",
    "    \n",
    "    if guess < num:\n",
    "        print(\"Too low\")\n",
    "    \n",
    "    elif guess > num:\n",
    "        print(\"Too high\")\n",
    "        \n",
    "    else:\n",
    "        break\n",
    "        \n",
    "if guess == num:\n",
    "    \n",
    "    print(\"You guessed right!\")\n",
    "\n",
    "else:\n",
    "    print(\"Sorry, the number is \" + str(num))\n",
    "\n",
    "    \n",
    "  \n",
    "    \n",
    "\n",
    "    \n",
    "\n",
    "    \n",
    "    "
   ]
  },
  {
   "cell_type": "markdown",
   "metadata": {},
   "source": [
    "The next ones are all the same https://stackoverflow.com/questions/18829185/difference-between-various-numpy-random-functions"
   ]
  },
  {
   "cell_type": "markdown",
   "metadata": {},
   "source": [
    "## Choices"
   ]
  },
  {
   "cell_type": "code",
   "execution_count": 5,
   "metadata": {},
   "outputs": [
    {
     "data": {
      "image/png": "[encoded data removed]",
      "text/plain": [
       "<Figure size 432x288 with 1 Axes>"
      ]
     },
     "metadata": {},
     "output_type": "display_data"
    }
   ],
   "source": [
    "x = np.random.rand(10000)\n",
    "\n",
    "plt.hist(x)\n",
    "plt.show()"
   ]
  },
  {
   "cell_type": "code",
   "execution_count": 8,
   "metadata": {},
   "outputs": [
    {
     "name": "stdout",
     "output_type": "stream",
     "text": [
      "Guess a number between 1 and 100. Type Hard or Easy in the boxHard\n",
      "Guess a number between 1 and 100. You have 5 trys.3\n",
      "Too low\n",
      "Guess a number between 1 and 100. You have 5 trys.4\n",
      "Too low\n",
      "Guess a number between 1 and 100. You have 5 trys.1\n",
      "Too low\n",
      "Guess a number between 1 and 100. You have 5 trys.5\n",
      "Too low\n",
      "Guess a number between 1 and 100. You have 5 trys.6\n",
      "Too low\n",
      "The number is 36\n"
     ]
    }
   ],
   "source": [
    "while True:\n",
    "    ans = input(\"Guess a number between 1 and 100. Type Hard or Easy in the box\")\n",
    "    if ans not in ('Hard', \"Easy\"):\n",
    "        print(\"Type Easy or Hard.\")\n",
    "    else:\n",
    "        break\n",
    "        \n",
    "        \n",
    "if ans == \"Hard\":\n",
    "    ans = 5\n",
    "else:\n",
    "    ans = 10\n",
    "    \n",
    "\n",
    "\n",
    "num = np.random.randint(1,100)\n",
    "\n",
    "for x in range(ans):\n",
    "    guess = int(input(\"Guess a number between 1 and 100. You have \" + str(ans) + \" trys.\" ))\n",
    "    \n",
    "    if guess < num:\n",
    "        print(\"Too low\")\n",
    "    \n",
    "    elif guess > num:\n",
    "        print(\"Too high\")\n",
    "        \n",
    "    else:\n",
    "        break\n",
    "        \n",
    "if guess == num:\n",
    "    \n",
    "    print(\"You guessed right!\")\n",
    "\n",
    "else:\n",
    "    print(\"Sorry, the number is \" + str(num))\n",
    "\n",
    "    \n",
    "  \n",
    "    \n",
    "\n",
    "    \n",
    "\n",
    "    \n",
    "    "
   ]
  },
  {
   "cell_type": "code",
   "execution_count": 17,
   "metadata": {},
   "outputs": [
    {
     "name": "stdout",
     "output_type": "stream",
     "text": [
      "64\n"
     ]
    }
   ],
   "source": [
    "num = np.random.randint(1,100)\n",
    "print(num)"
   ]
  },
  {
   "cell_type": "code",
   "execution_count": null,
   "metadata": {},
   "outputs": [],
   "source": [
    "y = np.random.rand(10000)\n",
    "samples = []\n",
    "for x in range(1000):\n",
    "    samples.append(np.mean(random.choices(y, k=50)))\n",
    "\n",
    "    \n",
    "    \n",
    "plt.hist(samples)\n",
    "plt.show()\n",
    "\n",
    "\n",
    "    \n",
    "\n",
    "\n"
   ]
  },
  {
   "cell_type": "code",
   "execution_count": null,
   "metadata": {},
   "outputs": [],
   "source": []
  },
  {
   "cell_type": "code",
   "execution_count": null,
   "metadata": {},
   "outputs": [],
   "source": [
    "## Gives a random distribution"
   ]
  },
  {
   "cell_type": "markdown",
   "metadata": {},
   "source": [
    "y = np.random.randn(10000)\n",
    "\n",
    "plt.hist(y)\n",
    "plt.show()"
   ]
  },
  {
   "cell_type": "code",
   "execution_count": null,
   "metadata": {},
   "outputs": [],
   "source": [
    "print(np.random.bytes(2))"
   ]
  },
  {
   "cell_type": "code",
   "execution_count": null,
   "metadata": {},
   "outputs": [],
   "source": []
  },
  {
   "cell_type": "code",
   "execution_count": null,
   "metadata": {},
   "outputs": [],
   "source": [
    "def unScramble():\n",
    "    animals = [\"cat\",\"dog\",\"fish\",\"sheep\", \"chicken\", \"elephant\", \"giraffe\", \"gazelle\", \"lion\", \"tiger\", \"\" ]\n",
    "    global x\n",
    "    x = np.random.choice(animals)\n",
    "\n",
    "    jumble = []\n",
    "    for i in x:\n",
    "        jumble.append(i)\n",
    "\n",
    "\n",
    "    y = print(np.random.permutation(jumble))\n",
    "    return(y)\n",
    "\n",
    "\n",
    "    \n",
    "\n",
    "\n",
    "\n",
    "\n",
    "\n",
    "\n"
   ]
  },
  {
   "cell_type": "code",
   "execution_count": null,
   "metadata": {},
   "outputs": [],
   "source": [
    "while True: \n",
    "    ans = input(\"Unscramble. Type Hard or Easy in the box\")\n",
    "    ans = ans.title()\n",
    "    if ans not in ('Hard', \"Easy\"):\n",
    "        print(\"Type Easy or Hard.\")\n",
    "    else:\n",
    "        break \n",
    "               \n",
    "if ans == \"Hard\": \n",
    "    ans = 5\n",
    "else:\n",
    "    ans = 10\n",
    "\n",
    "unScramble()\n",
    "\n",
    "countdown_start = time.time()\n",
    "while time.time() < countdown_start + int(ans):\n",
    "    \n",
    "    answer = input(\"You have \" + str(ans) + \" seconds. Unscramble and enter the animal here \")\n",
    "    answer = answer.lower()\n",
    "    \n",
    "    \n",
    "    if answer == x and time.time() < countdown_start + int(ans):\n",
    "        print(\"you guessed right!\")\n",
    "        break\n",
    "        \n",
    "    elif answer != x and time.time() < countdown_start + int(ans):\n",
    "        print(\"Try again\")\n",
    "    \n",
    "    elif answer != x and time.time() > countdown_start + int(ans):\n",
    "        print(\"Out of time! The animal is a \" + x)\n",
    "    \n",
    "    elif answer == x and time.time() > countdown_start + int(ans):\n",
    "        print(\"Too late!\")\n",
    "              \n",
    "\n",
    "\n",
    "\n",
    "\n",
    "\n",
    "\n",
    "\n",
    "        "
   ]
  },
  {
   "cell_type": "code",
   "execution_count": null,
   "metadata": {},
   "outputs": [],
   "source": []
  }
 ],
 "metadata": {
  "kernelspec": {
   "display_name": "Python 3",
   "language": "python",
   "name": "python3"
  },
  "language_info": {
   "codemirror_mode": {
    "name": "ipython",
    "version": 3
   },
   "file_extension": ".py",
   "mimetype": "text/x-python",
   "name": "python",
   "nbconvert_exporter": "python",
   "pygments_lexer": "ipython3",
   "version": "3.6.5"
  }
 },
 "nbformat": 4,
 "nbformat_minor": 2
}
